{
 "cells": [
  {
   "cell_type": "markdown",
   "metadata": {},
   "source": [
    "# Build Kivy App APK in Colab\n",
    "**Easily turn a Kivy app (main.py) into an Android APK using Google Colab + Buildozer**"
   ]
  },
  {
   "cell_type": "code",
   "execution_count": null,
   "metadata": {},
   "outputs": [],
   "source": [
    "#@title 1. Mount Google Drive\n",
    "from google.colab import drive\n",
    "drive.mount('/content/drive')"
   ]
  },
  {
   "cell_type": "code",
   "execution_count": null,
   "metadata": {},
   "outputs": [],
   "source": [
    "#@title 2. Install dependencies\n",
    "!sudo apt update\n",
    "!sudo apt install -y git zip unzip openjdk-17-jdk python3-pip\n",
    "!pip install --upgrade cython virtualenv\n",
    "!pip install buildozer\n",
    "!sudo apt install -y python3-pip python3-setuptools python3-wheel"
   ]
  },
  {
   "cell_type": "code",
   "execution_count": null,
   "metadata": {},
   "outputs": [],
   "source": [
    "#@title 3. Clone your repo\n",
    "!git clone https://github.com/AsaAngkasa/kivy-music-downloader-app.git\n",
    "%cd kivy-music-downloader-app"
   ]
  },
  {
   "cell_type": "code",
   "execution_count": null,
   "metadata": {},
   "outputs": [],
   "source": [
    "#@title 4. Initialize Buildozer\n",
    "!buildozer init\n",
    "# Optional: adjust buildozer.spec manually here if needed"
   ]
  },
  {
   "cell_type": "code",
   "execution_count": null,
   "metadata": {},
   "outputs": [],
   "source": [
    "#@title 5. Build APK (takes time!)\n",
    "!buildozer -v android debug"
   ]
  },
  {
   "cell_type": "code",
   "execution_count": null,
   "metadata": {},
   "outputs": [],
   "source": [
    "#@title 6. Find your APK\n",
    "!ls bin/*.apk"
   ]
  }
 ],
 "metadata": {
  "kernelspec": {
   "display_name": "Python 3",
   "language": "python",
   "name": "python3"
  },
  "language_info": {
   "name": "python",
   "version": "3.10"
  }
 },
 "nbformat": 4,
 "nbformat_minor": 0
}
